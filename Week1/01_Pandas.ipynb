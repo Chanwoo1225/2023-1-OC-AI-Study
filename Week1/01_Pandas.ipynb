{
 "cells": [
  {
   "cell_type": "markdown",
   "metadata": {},
   "source": [
    "# Pandas\n",
    "![pandas](./Pandas_logo.png)\n",
    "\n",
    "<br>\n",
    "\n",
    "**데이터 분석**을 하고 싶으신가요? 그럼 `pandas`를 한번 거쳐가시는 것이 좋습니다. 물론 굉장히 멋있어 보이는 `Machine Learning`, `AI` 등을 하고 싶으시겠지만, 두 다리 없이 뛸 수는 없잖아요? 일단 데이터를 다룰 수 있는 기본기를 익히고, 멋있어 보이는 것들을 해봅시다.  \n",
    "\n",
    "<br>\n",
    "  \n",
    "Pandas는 Python Data Analysis Library의 약자입니다. 이름만 보고 \"오잉 판다가 갑자기 왜 나오징?\" 하실 수 있지만 의외로 판다와 무관합니다 ㅎㅎ   \n",
    "  \n",
    "그럼 한번 pandas와 관련된 문제를 풀어보러 가시죠!\n",
    "\n",
    "<br>\n",
    "\n",
    "---\n",
    "\n",
    "**알림**\n",
    "- 본 컨텐츠는 강의 형식이 아닌, 스스로 공부하시는 분들을 위한 일종의 문제집 입니다.\n",
    "- 데이터라는 큰 바다에서 여러분이 쓸 데 없는 시간 낭비 없이 바로바로 핵심을 배우실 수 있도록 커리큘럼을 짜봤습니다.\n",
    "- 이 컨텐츠의 문제들만 해결한다고 실력이 오르지 않습니다. 본 컨텐츠의 목적은 문제를 해결하는 과정에서 발생하는 고민과 질문을 통한 실력 향상입니다. \n",
    "- 문제에서 절대 떠먹여주지 않습니다. 물고기를 잡아주는 것이 아닌, 물고기를 잡는 방법을 여러분이 이 컨텐츠를 통해 알아가셨으면 합니다."
   ]
  },
  {
   "cell_type": "markdown",
   "metadata": {},
   "source": [
    "\n",
    "<br>\n",
    "\n",
    "<br>\n",
    "\n",
    "# 1. Data Frame 다루기\n",
    "- Tabular Data를 다루는 가장 기본적인 툴이 바로 `pandas`입니다. Tabular Data는 흔히 여러분이 엑셀에서 많이 봐오셨던 데이터를 말하는데요, 쉽게 말해서 그냥 표라고 생각하셔도 무방합니다.  \n",
    "- 이번 Chapter에선 `pandas`의 가장 기본적인 형태인 `Data Frame`을 다루는 쉽지만 필수적인 method에 대해 알아보겠습니다."
   ]
  },
  {
   "cell_type": "markdown",
   "metadata": {},
   "source": [
    "❗ 잠깐 ❗  \n",
    "들어가기 전에, Data Frame에 대한 간단한 설명이 있는 [pandas document](https://pandas.pydata.org/docs/getting_started/intro_tutorials/01_table_oriented.html)를 한번 가볍게 쭉 읽고 오시는 것을 추천드려요 ㅎㅎ"
   ]
  },
  {
   "cell_type": "markdown",
   "metadata": {},
   "source": [
    "### 1-1 Data Frame 만들기"
   ]
  },
  {
   "cell_type": "markdown",
   "metadata": {},
   "source": [
    "**문제**  \n",
    "열(Column)의 이름이 A, B, C, D이고, 각 열마다 Random한 숫자가 10개씩 담겨져 있는 Data Frame을 생성해보세요.\n",
    "\n",
    "검색 힌트  : pandas Data Frame 생성, pandas data frame 만들기\n",
    "\n",
    "_예시_  \n",
    "![](./1-1answer.png)\n"
   ]
  },
  {
   "cell_type": "code",
   "execution_count": null,
   "metadata": {},
   "outputs": [],
   "source": [
    "import numpy as np\n",
    "import pandas as pd\n",
    "\n",
    "random_numbers = np.random.randn(10 , 4)\n",
    "df1 = pd.DataFrame(random_numbers)\n",
    "df1.columns = ['A', 'B', 'C', 'D']\n",
    "\n",
    "print(df1)"
   ]
  },
  {
   "cell_type": "markdown",
   "metadata": {},
   "source": [
    "### 1-2 Data Frame Indexing 1\n",
    "\n",
    "**문제**  \n",
    "1-1에서 생성한 DataFrame에서 위에서부터 5개의 행을 출력하는 코드를 작성해보세요  \n",
    "  \n",
    "검색 힌트 : pandas indexing, pandas print top5 rows  \n",
    "  \n",
    "_예시_  \n",
    "![](./1-2answer.png)"
   ]
  },
  {
   "cell_type": "code",
   "execution_count": null,
   "metadata": {},
   "outputs": [],
   "source": [
    "print(df1.loc[:4])"
   ]
  },
  {
   "cell_type": "markdown",
   "metadata": {},
   "source": [
    "### 1-3 Data Frame Indexing 2\n",
    "\n",
    "**문제**  \n",
    "1-1에서 생성한 DataFrame에서 1번째, 2번째 열만 추출하는 코드를 작성해보세요  \n",
    "  \n",
    "검색 힌트 : pandas indexing, pandas iloc, pandas loc  \n",
    "  \n",
    "_예시_  \n",
    "![](./1-3answer.png)"
   ]
  },
  {
   "cell_type": "code",
   "execution_count": null,
   "metadata": {},
   "outputs": [],
   "source": [
    "print(df1.iloc[:, :2])"
   ]
  },
  {
   "cell_type": "markdown",
   "metadata": {},
   "source": [
    "### 1-4 Data Frame Indexing 3\n",
    "\n",
    "**문제**  \n",
    "1-1에서 생성한 DataFrame에서 \"A\"열과 \"D\"열만 추출하는 코드를 작성해보세요  \n",
    "  \n",
    "검색 힌트 : pandas indexing, pandas iloc, pandas loc  \n",
    "  \n",
    "_예시_  \n",
    "![](./1-4answer.png)"
   ]
  },
  {
   "cell_type": "code",
   "execution_count": null,
   "metadata": {},
   "outputs": [],
   "source": [
    "print(df1.iloc[:, [0,3]])"
   ]
  },
  {
   "cell_type": "markdown",
   "metadata": {},
   "source": [
    "### 1-5 Data Frame columns, values, index\n",
    "\n",
    "**문제**  \n",
    "1-1에서 생성한 DataFrame의 Column들과 값들, index, shape을 출력하는 코드를 작성하세요 \n",
    "  \n",
    "검색 힌트 : pandas columns, pandas values, pandas index\n",
    "  \n",
    "_예시_  \n",
    "![](./1-5answer.png)"
   ]
  },
  {
   "cell_type": "code",
   "execution_count": null,
   "metadata": {},
   "outputs": [],
   "source": [
    "print(df1.columns)\n",
    "print(df1.values)\n",
    "print(df1.index)\n",
    "print(df1.shape)"
   ]
  },
  {
   "cell_type": "markdown",
   "metadata": {},
   "source": [
    "### 1-6 Data Frame Informations\n",
    "\n",
    "**문제**  \n",
    "1-1에서 생성한 DataFrame의 column별 정보와 통계적 정보를 출력하는 코드를 작성하세요 \n",
    "  \n",
    "검색 힌트 : pandas get data frame information, pandas get statistic information\n",
    "  \n",
    "_예시_  \n",
    "![](./1-6answer.png)"
   ]
  },
  {
   "cell_type": "code",
   "execution_count": null,
   "metadata": {},
   "outputs": [],
   "source": [
    "print(df1.info())\n",
    "print(df1.describe())"
   ]
  },
  {
   "cell_type": "markdown",
   "metadata": {},
   "source": [
    "### 1-7 Data Frame Sorting\n",
    "\n",
    "**문제**  \n",
    "1-1에서 생성한 DataFrame을 \"A\" Column을 기준으로 내림차순으로 정렬한 뒤, Index를 재정렬하는 코드를 작성하세요.  \n",
    "(단, Index 재정렬 후 , 원래의 index는 삭제해주세요.)\n",
    "  \n",
    "검색 힌트 : pandas sort values, pandas sort values descending, pandas reset index\n",
    "  \n",
    "_예시_  \n",
    "![](./1-7answer.png)"
   ]
  },
  {
   "cell_type": "code",
   "execution_count": null,
   "metadata": {},
   "outputs": [],
   "source": [
    "dfa = df1.sort_values('A', ascending=False)\n",
    "dfa.reset_index(drop=True)"
   ]
  },
  {
   "cell_type": "markdown",
   "metadata": {},
   "source": [
    "### 1-8 Data Frame Advanced Indexing 1\n",
    "\n",
    "**문제**  \n",
    "아래와 같은 Data Frame을 만들고, 주 언어가 파이썬인 사람들만 조회하는 코드를 작성해보세요.\n",
    "  \n",
    "검색 힌트 : pandas indexing, pandas query, pandas get specific values\n",
    "  \n",
    "<br>\n",
    "\n",
    "Data Frame 예시  \n",
    "![](./1-8df.png)\n",
    "\n",
    "_예시_  \n",
    "![](./1-8answer.png)\n"
   ]
  },
  {
   "cell_type": "code",
   "execution_count": null,
   "metadata": {},
   "outputs": [],
   "source": [
    "df2 = pd.DataFrame([['피카츄', '경제', '파이썬', 'AI엔지니어'],\n",
    "            ['라이츄', '경영', 'C', '프론트'],\n",
    "            ['파이리', '컴공', 'C+', '백엔드'],\n",
    "            ['꼬부기', '컴공', '파이썬', 'AI엔지니어'],\n",
    "            ['버터풀', '경제', '자바', '백엔드'],\n",
    "            ['야도란', '전전', '엄', '프론트'],\n",
    "            ['피죤투', '컴공', '파이썬', 'AI엔지니어'],\n",
    "            ['또가스', '기계', '자바', 'PM']],\n",
    "            columns = ['이름', '학과', '언어', '직무'])\n",
    "\n",
    "print(df2[df2['언어'] == '파이썬'])\n"
   ]
  },
  {
   "cell_type": "markdown",
   "metadata": {},
   "source": [
    "### 1-9 Data Frame Advanced Indexing 2\n",
    "\n",
    "**문제**  \n",
    "1-8에서 만든 Data Frame에서 학과가 컴공이고, 주 언어가 파이썬, 직무는 AI 엔지니어인 사람들만 조회하는 코드를 작성해보세요.\n",
    "  \n",
    "검색 힌트 : pandas indexing, pandas query, pandas get specific values\n",
    "\n",
    "_예시_  \n",
    "![](./1-9answer.png)"
   ]
  },
  {
   "cell_type": "code",
   "execution_count": null,
   "metadata": {},
   "outputs": [],
   "source": [
    "print(df2[(df2['학과'] == '컴공') & (df2['언어'] == '파이썬') & (df2['직무'] == 'AI엔지니어')])"
   ]
  },
  {
   "cell_type": "markdown",
   "metadata": {},
   "source": [
    "### 1-10 Data Frame Concat\n",
    "\n",
    "**문제**  \n",
    "1-1에서 만든 Data Frame과 1-8에서 만든 Data Frame을 위아래로 합치는 코드와, 좌우로 합치는 코드를 작성해주세요. 각 작업을 수행한 후엔 Index를 다시 세팅해주세요!\n",
    "  \n",
    "검색 힌트 : pandas concat Data Frame\n",
    "\n",
    "_예시_  \n",
    "위아래로 합치는 경우  \n",
    "![](./1-10answer1.png)  \n",
    "좌우로 합치는 경우  \n",
    "![](./1-10answer2.png)  "
   ]
  },
  {
   "cell_type": "code",
   "execution_count": null,
   "metadata": {},
   "outputs": [],
   "source": [
    "dfv = pd.concat([df1,df2], ignore_index=True)\n",
    "print(dfv)\n",
    "\n",
    "dfh = pd.concat([df1,df2], axis=1)\n",
    "print('\\n', dfh)\n"
   ]
  },
  {
   "cell_type": "markdown",
   "metadata": {},
   "source": [
    "### 1-11 Data Frame Concat 2\n",
    "\n",
    "**문제**  \n",
    "1-10에서 만든 Data Frame가 뭔가 이상합니다. NaN값들이 막 섞여있고 상당히 지저분합니다. 왜 이러는 걸까요? 이유를 한번 생각해서 적어보세요!  \n",
    "  \n",
    "이유를 적어본 뒤에, 1-8에서 만든 Data Frame의 이름을 \"A\", \"B\", \"C\", \"D\"로 바꾼 다음 다시 시도해보세요.\n",
    "  \n",
    "검색 힌트 : pandas concat Data Frame, pandas column name change\n"
   ]
  },
  {
   "cell_type": "code",
   "execution_count": null,
   "metadata": {},
   "outputs": [],
   "source": [
    "#A, B, C, D열이 df1에만 있으므로 df2에서는 그 열의 값이 NaN으로 채워졌기 때문이다.\n",
    "#그 밑의 경우도 마찬가지로 df2에는 없는 행의 값들이 NaN으로 채워졌다.\n",
    "\n",
    "df2.columns = ['A', 'B', 'C', 'D']\n",
    "dfv = pd.concat([df1,df2], ignore_index=True)\n",
    "print(dfv)"
   ]
  },
  {
   "cell_type": "markdown",
   "metadata": {},
   "source": [
    "# 2. 데이터 불러오기\n",
    "  \n",
    "- 여기까지 해내신 분들! 아주 대단하십니다. 여기까지 푸신 것만 해도, 데이터를 다뤄볼 준비가 됐다고 할 수 있습니다 ㅎㅎ 뭐든 기본기가 지루하고 귀찮다고는 하지만 제일 중요하니까요..! \n",
    "- 이제는 튜토리얼 데이터를 불러와서, 통계량을 확인해보고, 우리들이 만든 함수도 적용해볼 겁니다. 어떻게 하는지 볼까요?  \n"
   ]
  },
  {
   "cell_type": "markdown",
   "metadata": {},
   "source": [
    "❗잠깐❗  \n",
    "데이터를 다운 받아야겠죠? \n",
    "[이곳](https://www.kaggle.com/code/parulpandey/penguin-dataset-the-new-iris/data)에서 데이터를 다운 받은뒤, 압축을 해제하고, `penguins_size.csv`파일을 **코드 파일이 존재하는 폴더에 저장해주세요**"
   ]
  },
  {
   "cell_type": "markdown",
   "metadata": {},
   "source": [
    "### 2-1 Read CSV\n",
    "\n",
    "**문제**  \n",
    "방금 다운받은 데이터를 Data Frame으로 읽는 코드를 작성해주세요.\n",
    "  \n",
    "검색 힌트 : pandas read data, pandas read csv file\n",
    "\n",
    "_예시_  \n",
    "![](./2-1answer.png)  \n",
    "  "
   ]
  },
  {
   "cell_type": "code",
   "execution_count": null,
   "metadata": {},
   "outputs": [],
   "source": [
    "dft = pd.read_csv(\"penguins_size.csv\")\n",
    "print(dft)"
   ]
  },
  {
   "cell_type": "markdown",
   "metadata": {},
   "source": [
    "### 2-2 Data Frame Indexing 복습!\n",
    "\n",
    "**문제**  \n",
    "읽어온 Data Frame에서, `species`가 `Gentoo`인 데이터만 조회하고, index를 새로 재배치 하는 코드를 작성해주세요. \n",
    "  \n",
    "검색 힌트 : pandas indexing, pandas query\n",
    "\n",
    "_예시_  \n",
    "![](./2-2answer.png)  \n",
    "  "
   ]
  },
  {
   "cell_type": "code",
   "execution_count": null,
   "metadata": {},
   "outputs": [],
   "source": [
    "dft1 = dft[(dft[\"species\"] == 'Gentoo')]\n",
    "print(dft1.reset_index(drop=True))\n"
   ]
  },
  {
   "cell_type": "markdown",
   "metadata": {},
   "source": [
    "### 2-3 Groupby\n",
    "\n",
    "**문제**  \n",
    "2-1에서 읽어온 Data Frame에서, `species`별 평균값 데이터를 조회해보세요.  \n",
    "`species`별 평균값의 조회가 끝났다면, `island`별 평균, 최대, 최소, 중앙값 데이터도 조회해보세요!  \n",
    "  \n",
    "검색 힌트 : pandas groupby, pandas aggregate function\n",
    "\n",
    "_예시_  \n",
    "![](./2-3answer.png)  \n",
    "![](./2-3answer2.png)\n",
    "  "
   ]
  },
  {
   "cell_type": "code",
   "execution_count": null,
   "metadata": {},
   "outputs": [],
   "source": [
    "print(dft.groupby('species').mean())\n",
    "\n",
    "print('\\n', dft.groupby('island').aggregate([np.mean, max, min, np.median]))"
   ]
  },
  {
   "cell_type": "markdown",
   "metadata": {},
   "source": [
    "### 2-4 apply lambda\n",
    "\n",
    "**문제**  \n",
    "들어온 input에 대해서 제곱된 값을 return 해주는 함수를 작성하세요.  \n",
    "그런 다음 2-1에서 읽어온 Data Frame에서, `body_mass_g` Column의 값을 제곱한 새로운 Column을 만들어보세요\n",
    "\n",
    "검색 힌트 : pandas new column, pandas apply lambda\n",
    "\n",
    "_예시_  \n",
    "![](./2-4answer.png)  \n",
    "  "
   ]
  },
  {
   "cell_type": "code",
   "execution_count": null,
   "metadata": {},
   "outputs": [],
   "source": [
    "dft['new_column'] = dft['body_mass_g'].apply(lambda x: x**2)\n",
    "\n",
    "print(dft)"
   ]
  },
  {
   "cell_type": "markdown",
   "metadata": {},
   "source": [
    "### 2-5 drop nan values\n",
    "\n",
    "**문제**  \n",
    "2-1에서 읽어온 Data Frame에서 칼럼 별로 값이 없는 데이터의 수를 구하는 코드를 작성해보세요.  \n",
    "그리고 그런 공백값들을 제거한 Data Frame을 출력하는 코드를 작성해주세요.\n",
    "\n",
    "검색 힌트 : pandas get number of nan, pandas remove null \n",
    "\n",
    "_예시_  \n",
    "column별 공백값의 수  \n",
    "![](./2-5answer1.png)   \n",
    "제거 후 Data Frame  \n",
    "![](./2-5answer2.png)   "
   ]
  },
  {
   "cell_type": "code",
   "execution_count": null,
   "metadata": {},
   "outputs": [],
   "source": [
    "dft = dft.drop(['new_column'], axis=1)\n",
    "print(dft.isna().sum(), '\\n')\n",
    "\n",
    "dft_NaN_removed = dft.dropna()\n",
    "print(dft_NaN_removed)"
   ]
  },
  {
   "cell_type": "markdown",
   "metadata": {},
   "source": [
    "### 2-6 remove column\n",
    "\n",
    "**문제**  \n",
    "2-1에서 읽어온 Data Frame에서 `island` Column을 제거하는 코드를 작성해주세요.  \n",
    "  \n",
    "검색 힌트: pandas remove columns\n",
    "\n",
    "_예시_  \n",
    "![](./2-6answer.png)  \n",
    "  "
   ]
  },
  {
   "cell_type": "code",
   "execution_count": null,
   "metadata": {},
   "outputs": [],
   "source": [
    "dft_island_removed = dft.drop(['island'], axis=1)\n",
    "print(dft_island_removed)"
   ]
  },
  {
   "cell_type": "markdown",
   "metadata": {},
   "source": [
    "# 1주차 종료\n",
    "- 여기까지 완료하신 분들 너무 고생많았습니다 ㅎㅎ 우리가 위의 문제들을 푸는 과정에서 배우고 익혔던 메서드들은 앞으로 Tabular Data를 다룰 때 거의 무조건적으로 사용될 녀석들로 꼭 반복학습 하셔서 익혀두시는 걸 추천드려요.\n",
    "- 더 배우고 싶으신 분들은 아래의 문제도 한번 풀어보시는 걸 추천드려요 ㅎㅎ\n",
    "- 다음엔 시각화에 대한 문제를 풀어볼 겁니다. 우리가 읽어온 데이터를 가공한 결과를 그래프로 잘 표현하는 것만으로도 유의미한 정보를 얻어낼 수 있습니다. 백문이 불허일견인 만큼, 주저리주저리 얘기하는 것보다는 잘 된 시각화 그림 하나 보여주는 게 더 효과가 좋을 때가 많습니다. \n",
    "- 그럼 다음 주차에 봐요!\n",
    "  \n",
    "<br>\n",
    "\n",
    "👀**추가 문제**👀  \n",
    "아래의 두 Data Frame을 가지고, 아래 결과와 같은 Data Frame으로 생성해보세요! \n",
    "\n",
    "<br>\n",
    "\n",
    "**input**  \n",
    "![](./add_input.png)  \n",
    "  \n",
    "**output**  \n",
    "![](./add_output.png)\n"
   ]
  },
  {
   "cell_type": "code",
   "execution_count": null,
   "metadata": {},
   "outputs": [],
   "source": []
  }
 ],
 "metadata": {
  "kernelspec": {
   "display_name": "Python 3.9.13 64-bit (microsoft store)",
   "language": "python",
   "name": "python3"
  },
  "language_info": {
   "codemirror_mode": {
    "name": "ipython",
    "version": 3
   },
   "file_extension": ".py",
   "mimetype": "text/x-python",
   "name": "python",
   "nbconvert_exporter": "python",
   "pygments_lexer": "ipython3",
   "version": "3.9.13"
  },
  "orig_nbformat": 4,
  "vscode": {
   "interpreter": {
    "hash": "53a512125719f521366ed91a9e479611e31fcc6e9d09d02416dcc2155feac63f"
   }
  }
 },
 "nbformat": 4,
 "nbformat_minor": 2
}
